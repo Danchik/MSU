{
 "cells": [
  {
   "cell_type": "code",
   "execution_count": null,
   "metadata": {
    "vscode": {
     "languageId": "c"
    }
   },
   "outputs": [],
   "source": [
    "#include <stdio.h> \n",
    "#include <time.h> \n",
    " \n",
    "// A function that terminates when enter key is pressed \n",
    "void fun() \n",
    "{ \n",
    "    printf(\"fun() starts \\n\"); \n",
    "    printf(\"Press enter to stop fun \\n\"); \n",
    "    while(1) \n",
    "    { \n",
    "        if (getchar()) \n",
    "            break;  \n",
    "    } \n",
    "    printf(\"fun() ends \\n\"); \n",
    "} \n",
    " \n",
    "// The main program calls fun() and measures time taken by fun() \n",
    "int main() \n",
    "{ \n",
    "    // Calculate the time taken by fun() \n",
    "    clock_t t; \n",
    "    t = clock(); \n",
    "    fun(); \n",
    "    t = clock() - t; \n",
    "    double time_taken = ((double)t)/CLOCKS_PER_SEC; // in seconds \n",
    " \n",
    "    printf(\"fun() took %f seconds to execute \\n\", time_taken); \n",
    "    return 0; \n",
    "} "
   ]
  }
 ],
 "metadata": {
  "language_info": {
   "name": "python"
  }
 },
 "nbformat": 4,
 "nbformat_minor": 2
}
